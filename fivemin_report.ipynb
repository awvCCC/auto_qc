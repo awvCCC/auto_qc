{
 "cells": [
  {
   "cell_type": "code",
   "execution_count": 18,
   "metadata": {},
   "outputs": [],
   "source": [
    "import os\n",
    "import urllib\n",
    "import numpy as np\n",
    "import pandas as pd\n",
    "from datetime import datetime,timedelta"
   ]
  },
  {
   "cell_type": "code",
   "execution_count": 19,
   "metadata": {},
   "outputs": [],
   "source": [
    "today = datetime.now().strftime('%Y-%m-%d')\n",
    "yesterday = datetime.strftime(datetime.now() - timedelta(1), '%Y-%m-%d')"
   ]
  },
  {
   "cell_type": "code",
   "execution_count": 20,
   "metadata": {},
   "outputs": [],
   "source": [
    "def QAQC_datapull(a,b,c,d):\n",
    "    if a == 'hourly':\n",
    "        e = ['tmean,rh,vp,sr,ws,wind_vec,wind_std,pp,st5,st15,gust,gusttm,gustdir']\n",
    "        r = pd.date_range(start=c,end=d,freq='H')\n",
    "    elif a == 'five_minute':\n",
    "        e = ['tmean,rh,vp,sr,ws,wind_vec,wind_std,pp,st5,st15,gust,gusttm,gustdir']\n",
    "        r = pd.date_range(start=c,end=d,freq='5min')\n",
    "    elif a == 'daily':\n",
    "        e = ['tave,tmax,tmin,vp,rhmax,rhmin,sr,wrun,pp,st5mx,st5mn,st15mx,st15mn,gust,gustdir']\n",
    "        r = pd.date_range(start=c,end=d,freq='D')\n",
    "        \n",
    "    urllib.request.urlretrieve('http://coagmet.colostate.edu/cgi-bin/web_services.pl?' +\n",
    "                              'type=' + a +\n",
    "                              '&sids=' + b +\n",
    "                              '&sdate=' + c +\n",
    "                              '&edate=' + d +\n",
    "                              '&elems=' + e,\n",
    "                              filename=csv)\n",
    "    \n",
    "    data = pd.read_csv(csv)\n",
    "    \n",
    "    data = data.reset_index()\n",
    "    \n",
    "    headers = e.split(',')\n",
    "    \n",
    "    headers.insert(0,'date')\n",
    "    headers.instert(0,'station')\n",
    "    \n",
    "    data.columns = headers\n",
    "    \n",
    "    data['date'] = pd.to_datetime(data.date)\n",
    "    \n",
    "    data = data.set_index('date').reindex(r,copy=False).rename_axis('date')\n",
    "    \n",
    "    return data"
   ]
  },
  {
   "cell_type": "code",
   "execution_count": null,
   "metadata": {},
   "outputs": [],
   "source": [
    "def fivemin_report(x):\n",
    "    file = (x['path'] + r'\\fivemin\\QAQC_report_' + x['drainage'] + \n",
    "            '_' + x['region'] + \"_\" + yesterday + '.txt')\n",
    "    f = open(file,'a')\n",
    "    title = (yesterday + r' QA/QC Report for stations in the ' + x['region'] +\n",
    "            ' region of the ' + x['drainage'] + ' drainage\\n')\n",
    "    f.write(title)\n",
    "    f.write('/n')\n",
    "    data = QAQC_datapull('five_minute',x['stations'],yesterday,today)\n",
    "    \n",
    "    f.write('Five Minute Data/n')\n",
    "    f.write('/n')\n",
    "    f.write('Missing Data:/n')\n",
    "    f.write('_____________/n')\n",
    "    \n",
    "    for index,rows in data.iterrows():\n",
    "        if(pd.isnull(data['tmean'][n])):\n",
    "            f.write(str(data['station'][n]) + \n",
    "                    ' is missing temperature data at ' + str(data['date'][n]) + '/n')\n",
    "        elif(pd.isnull(data['rh'][n])):\n",
    "            f.write(str(data['station'][n]) + \n",
    "                    ' is missing relative humidity data at ' + str(data['date'][n]) + '/n')\n",
    "        elif(pd.isnull(data['vp'][n])):\n",
    "            f.write(str(data['station'][n]) + \n",
    "                    ' is missing vapor pressure data at ' + str(data['date'][n]) + '/n')\n",
    "        elif(pd.isnull(data['sr'][n])):\n",
    "            f.write(str(data['station'][n]) + \n",
    "                    ' is missing solar radiation data at ' + str(data['date'][n]) + '/n')\n",
    "        elif(pd.isnull(data['ws'][n])):\n",
    "            f.write(str(data['station'][n]) + \n",
    "                   ' is missing wind speed data at ' + str(data['date'][n]) + '/n')\n",
    "        elif(pd.isnull(data['wind_vec'][n])):\n",
    "            f.write(str(data['station'][n]) + \n",
    "                   ' is missing wind direction data at ' + str(data['date'][n]) + '/n')\n",
    "        elif(pd.isnull(data['wind_std'][n])):\n",
    "            f.write(str(data['station'][n]) + \n",
    "                   ' is missing wind direction standard deviation data at ' + str(data['date'][n]) + \n",
    "                   '/n')\n",
    "        elif(pd.isnull(data['pp'][n])):\n",
    "            f.write(str(data['station'][n]) + \n",
    "                   ' is missing precipitation data at ' + str(data['date'][n]) + '/n')\n",
    "        elif(pd.isnull(data['st5'][n])):\n",
    "            f.write(str(data['station'][n]) + \n",
    "                   ' is missing 5cm soil temperature data at ' + str(data['date'][n]) + '/n')\n",
    "        elif(pd.isnull(data['st15'][n])):\n",
    "            f.write(str(data['station'][n]) + \n",
    "                   ' is missing 15cm soil temperature data at ' + str(data['date'][n]) + '/n')\n",
    "        elif(pd.isnull(data['gust'][n])):\n",
    "            f.write(str(data['station'][n]) +\n",
    "                    ' is missing gust speed data at ' + str(data['date'][n]) + '/n')\n",
    "        elif(pd.isnull(data['gustdir'][n])):\n",
    "            f.write(str(data['station'][n]) + \n",
    "                   ' is missing gust direction data at ' + str(data['date'][n]) + '/n')\n",
    "        else:\n",
    "            continue\n",
    "        \n",
    "    f.write('/n')\n",
    "    f.write('/n')\n",
    "        \n",
    "    f.write('Temperature Data Report/n')\n",
    "    f.write('_______________________/n')\n",
    "    \n",
    "    for index,rows in data.iterrows():\n",
    "        if data['tmean'][n] > 46.1:\n",
    "            f.write(str(data['station'][n]) + ' reported a temperature of ' + str(data['tmean'][n]) +\n",
    "                    '°C. If true, this a new state record for max temp.')\n",
    "        elif data['tmean'][n] < -51.7:\n",
    "            f.write(str(data['station'][n]) + ' reported a temperature of ' + str(data['tmean'][n]) +\n",
    "                   '°C. If true, this a new state record for min temp.')\n",
    "            \n",
    "            \n",
    "    "
   ]
  },
  {
   "cell_type": "code",
   "execution_count": 5,
   "metadata": {},
   "outputs": [
    {
     "data": {
      "text/plain": [
       "'2020-01-14'"
      ]
     },
     "execution_count": 5,
     "metadata": {},
     "output_type": "execute_result"
    }
   ],
   "source": [
    "yesterday"
   ]
  },
  {
   "cell_type": "code",
   "execution_count": 6,
   "metadata": {},
   "outputs": [
    {
     "data": {
      "text/plain": [
       "'2020-01-14'"
      ]
     },
     "execution_count": 6,
     "metadata": {},
     "output_type": "execute_result"
    }
   ],
   "source": [
    "str(yesterday)"
   ]
  },
  {
   "cell_type": "code",
   "execution_count": 11,
   "metadata": {},
   "outputs": [],
   "source": [
    "Collegiate_Valley = {\n",
    "    'path':r'C:\\Users\\student\\Documents\\QAQC_reports\\Arkansas_Drainage\\Collegiate_Valley',\n",
    "    'stations':'bnv01,sld01',\n",
    "    'drainage':'Arkansas',\n",
    "    'region':'Collegiate_Valley'\n",
    "}\n",
    "East_Valley_Bottom = {\n",
    "    'path':r'C:\\Users\\student\\Documents\\QAQC_reports\\Arkansas_Drainage\\East_Valley_Bottom',\n",
    "    'stations':'hly01,hly02,lam01,lam03,lam04,mcl01',\n",
    "    'drainage':'Arkansas',\n",
    "    'region':'East_Valley_Bottom'\n",
    "}\n",
    "Mesas = {\n",
    "    'path':r'C:\\Users\\student\\Documents\\QAQC_reports\\Arkansas_Drainage\\Mesas',\n",
    "    'stations':'cnn01,hne01,pnr01,wcf01',\n",
    "    'drainage':'Arkansas',\n",
    "    'region':'Mesas'\n",
    "}\n",
    "North_of_Valley = {\n",
    "    'path':r'C:\\Users\\student\\Documents\\QAQC_reports\\Arkansas_Drainage\\North_of_Valley',\n",
    "    'stations':'scm01',\n",
    "    'drainage':'Arkansas',\n",
    "    'region':'Mesas'\n",
    "}\n",
    "Plateau_South_of_Valley = {\n",
    "    'path': r'C:\\Users\\student\\Documents\\QAQC_reports\\Arkansas_Drainage\\Plateau_South_of_Valley',\n",
    "    'stations':'wls01',\n",
    "    'drainage':'Arkansas',\n",
    "    'region':'Plateau_South_of_Valley'\n",
    "}\n",
    "West_Valley_Bottom = {\n",
    "    'path':r'C:\\Users\\student\\Documents\\QAQC_reports\\Arkansas_Drainage\\West_Valley_Bottom',\n",
    "    'stations':'avn01,fwl01,ljt01,rfd01',\n",
    "    'drainage':'Arkansas',\n",
    "    'region':'West_Valley_Bottom'\n",
    "}\n",
    "Lower_Valley = {\n",
    "    'path':r'C:\\Users\\student\\Documents\\QAQC_reports\\Colorado_Drainage\\Lower_Valley',\n",
    "    'stations':'cbl01,slt01',\n",
    "    'drainage':'Colorado',\n",
    "    'region':'Lower_Valley'\n",
    "}\n",
    "Eagle_River_Valley = {\n",
    "    'path':r'C:\\Users\\student\\Documents\\QAQC_reports\\Colorado_Drainage\\Eagle_River_Valley',\n",
    "    'stations':'egl01,gyp01',\n",
    "    'drainage':'Colorado',\n",
    "    'region':'Eagle_River_Valley'\n",
    "}\n",
    "Four_Corners = {\n",
    "    'path':r'C:\\Users\\student\\Documents\\QAQC_reports\\Colorado_Drainage\\Four_Corners',\n",
    "    'stations':'ctz01,dvc01,mnc01,twc01,yjk01,yuc01',\n",
    "    'drainage':'Colorado',\n",
    "    'region':'Four_Corners'\n",
    "}\n",
    "Grand_Valley = {\n",
    "    'path':r'C:\\Users\\student\\Documents\\QAQC_reports\\Colorado_Drainage\\Grand_Valley',\n",
    "    'stations':'cbn01,frt03,orm02',\n",
    "    'drainage':'Colorado',\n",
    "    'region':'Grand_Valley'\n",
    "}\n",
    "Headwaters = {\n",
    "    'path':r'C:\\Users\\student\\Documents\\QAQC_reports\\Colorado_Drainage\\Headwaters',\n",
    "    'stations':'gby01,krm01,wfd01',\n",
    "    'drainage':'Colorado',\n",
    "    'region':'Headwaters'\n",
    "}\n",
    "Lower_Gunnison = {\n",
    "    'path':r'C:\\Users\\student\\Documents\\QAQC_reports\\Colorado_Drainage\\Lower_Gunnison',\n",
    "    'stations':'dlt01,ekt01,hot02,mtr01,oth01',\n",
    "    'drainage':'Colorado',\n",
    "    'region':'Lower_Gunnison'\n",
    "}\n",
    "San_Juan = {\n",
    "    'path':r'C:\\Users\\student\\Documents\\QAQC_reports\\Colorado_Drainage\\San_Juan',\n",
    "    'stations':'drg01,ign01,kln01,pgs01',\n",
    "    'drainage':'Colorado',\n",
    "    'region':'San Juan'\n",
    "}\n",
    "San_Miguel_Paradox = {\n",
    "    'path':r'C:\\Users\\student\\Documents\\QAQC_reports\\Colorado_Drainage\\San_Miguel_Paradox',\n",
    "    'stations':'brk01,nwd01',\n",
    "    'drainage':'Colorado',\n",
    "    'region': r'San_Miguel_Paradox'\n",
    "}\n",
    "Upper_Gunnison = {\n",
    "    'path':r'C:\\Users\\student\\Documents\\QAQC_reports\\Colorado_Drainage\\Upper_Gunnison',\n",
    "    'stations':'gun01',\n",
    "    'drainage':'Colorado',\n",
    "    'region':'Upper_Gunnison'\n",
    "}\n",
    "Yampa_White = {\n",
    "    'path':r'C:\\Users\\student\\Documents\\QAQC_reports\\Colorado_Drainage\\Yampa_White',\n",
    "    'stations':'clk01,hyd01,mkr01',\n",
    "    'drainage':'Colorado',\n",
    "    'region': 'Yampa_White'\n",
    "}\n",
    "North_Plains = {\n",
    "    'path':r'C:\\Users\\student\\Documents\\QAQC_reports\\Kansas_Drainage\\North_Plains',\n",
    "    'stations':'akr02,hxt01,hyk02,ilf01,pai01,stg01,wry02,yum02',\n",
    "    'drainage':'Kansas',\n",
    "    'region':'North_Plains'\n",
    "}\n",
    "South_Plains = {\n",
    "    'path':r'C:\\Users\\student\\Documents\\QAQC_reports\\Kansas_Drainage\\South_Plains',\n",
    "    'stations':'brl02,brl03,idl01,sbt01,stn01',\n",
    "    'drainage':'Kansas',\n",
    "    'region':'South_Plains'\n",
    "}\n",
    "Front_Range_Foothills = {\n",
    "    'path':r'C:\\Users\\student\\Documents\\QAQC_reports\\Platte_Drainage\\Front_Range_Foothills',\n",
    "    'stations':'ckp01',\n",
    "    'drainage':'Platte',\n",
    "    'region':'Front_Range_Foothills'\n",
    "}\n",
    "Lower_Plains = {\n",
    "    'path':r'C:\\Users\\student\\Documents\\QAQC_reports\\Platte_Drainage\\Lower_Plains',\n",
    "    'stations':'brg01,hxt01,ksy01,ksy02',\n",
    "    'drainage':'Platte',\n",
    "    'region':'Lower_Plains'\n",
    "}\n",
    "North_Front_Range = {\n",
    "    'path':r'C:\\Users\\student\\Documents\\QAQC_reports\\Platte_Drainage\\North_Front_Range',\n",
    "    'stations':'alt01,fcc01,fcl01,ftc01,ftc03,gly04,lcn01',\n",
    "    'drainage':'Platte',\n",
    "    'region':'North_Front_Range'\n",
    "}\n",
    "North_Park = {\n",
    "    'path':r'C:\\Users\\student\\Documents\\QAQC_reports\\Platte_Drainage\\North_Park',\n",
    "    'stations':'cow01,heb01,lar01',\n",
    "    'drainage':'Platte',\n",
    "    'region':'North_Park'\n",
    "}\n",
    "South_Front_Range = {\n",
    "    'path':r'C:\\Users\\student\\Documents\\QAQC_reports\\Platte_Drainage\\South_Front_Range',\n",
    "    'stations':'ccr01,cht01,eac01,ftl01,lsl01,pkh01',\n",
    "    'drainage':'Platte',\n",
    "    'region':'South_Front_Range'\n",
    "}\n",
    "South_Park = {\n",
    "    'path':r'C:\\Users\\student\\Documents\\QAQC_reports\\Platte_Drainage\\South_Park',\n",
    "    'stations':'bnv01,jfn01,sld01',\n",
    "    'drainage':'Platte',\n",
    "    'region':'South_Park'\n",
    "}\n",
    "San_Luis_Valley = {\n",
    "    'path':r'C:\\Users\\student\\Documents\\QAQC_reports\\Rio_Grande_Drainage\\San_Luis_Valley',\n",
    "    'stations':'bla01,ctr01,ctr02,ljr01,san01',\n",
    "    'drainage':'Rio_Grande',\n",
    "    'region':'San_Luis_Valley'\n",
    "}\n"
   ]
  },
  {
   "cell_type": "code",
   "execution_count": 12,
   "metadata": {},
   "outputs": [
    {
     "data": {
      "text/plain": [
       "'Platte'"
      ]
     },
     "execution_count": 12,
     "metadata": {},
     "output_type": "execute_result"
    }
   ],
   "source": [
    "South_Park['drainage']\n"
   ]
  },
  {
   "cell_type": "code",
   "execution_count": 14,
   "metadata": {},
   "outputs": [
    {
     "ename": "KeyError",
     "evalue": "3",
     "output_type": "error",
     "traceback": [
      "\u001b[1;31m---------------------------------------------------------------------------\u001b[0m",
      "\u001b[1;31mKeyError\u001b[0m                                  Traceback (most recent call last)",
      "\u001b[1;32m<ipython-input-14-c7deea552425>\u001b[0m in \u001b[0;36m<module>\u001b[1;34m\u001b[0m\n\u001b[1;32m----> 1\u001b[1;33m \u001b[0mSouth_Park\u001b[0m\u001b[1;33m[\u001b[0m\u001b[1;36m3\u001b[0m\u001b[1;33m]\u001b[0m\u001b[1;33m\u001b[0m\u001b[1;33m\u001b[0m\u001b[0m\n\u001b[0m",
      "\u001b[1;31mKeyError\u001b[0m: 3"
     ]
    }
   ],
   "source": [
    "South_Park[3]"
   ]
  },
  {
   "cell_type": "code",
   "execution_count": 16,
   "metadata": {},
   "outputs": [],
   "source": [
    "def create_report(x):\n",
    "    file = (x['path'] + r'\\QAQC_report_' + x['drainage'] + \n",
    "            '_' + x['region'] + \"_\" + yesterday + '.txt')\n",
    "    f = open(file,'a')"
   ]
  },
  {
   "cell_type": "code",
   "execution_count": 17,
   "metadata": {},
   "outputs": [
    {
     "data": {
      "text/plain": [
       "<_io.TextIOWrapper name='C:\\\\Users\\\\student\\\\Documents\\\\QAQC_reports\\\\Platte_Drainage\\\\South_Park\\\\report_Platte_South Park_2020-01-14.txt' mode='a' encoding='cp1252'>"
      ]
     },
     "execution_count": 17,
     "metadata": {},
     "output_type": "execute_result"
    }
   ],
   "source": [
    "create_report(South_Park)"
   ]
  },
  {
   "cell_type": "code",
   "execution_count": null,
   "metadata": {},
   "outputs": [],
   "source": []
  }
 ],
 "metadata": {
  "kernelspec": {
   "display_name": "Python 3",
   "language": "python",
   "name": "python3"
  },
  "language_info": {
   "codemirror_mode": {
    "name": "ipython",
    "version": 3
   },
   "file_extension": ".py",
   "mimetype": "text/x-python",
   "name": "python",
   "nbconvert_exporter": "python",
   "pygments_lexer": "ipython3",
   "version": "3.7.3"
  },
  "toc": {
   "base_numbering": 1,
   "nav_menu": {},
   "number_sections": true,
   "sideBar": true,
   "skip_h1_title": false,
   "title_cell": "Table of Contents",
   "title_sidebar": "Contents",
   "toc_cell": false,
   "toc_position": {},
   "toc_section_display": true,
   "toc_window_display": false
  },
  "varInspector": {
   "cols": {
    "lenName": 16,
    "lenType": 16,
    "lenVar": 40
   },
   "kernels_config": {
    "python": {
     "delete_cmd_postfix": "",
     "delete_cmd_prefix": "del ",
     "library": "var_list.py",
     "varRefreshCmd": "print(var_dic_list())"
    },
    "r": {
     "delete_cmd_postfix": ") ",
     "delete_cmd_prefix": "rm(",
     "library": "var_list.r",
     "varRefreshCmd": "cat(var_dic_list()) "
    }
   },
   "types_to_exclude": [
    "module",
    "function",
    "builtin_function_or_method",
    "instance",
    "_Feature"
   ],
   "window_display": false
  }
 },
 "nbformat": 4,
 "nbformat_minor": 2
}
