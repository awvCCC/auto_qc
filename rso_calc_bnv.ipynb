{
 "cells": [
  {
   "cell_type": "code",
   "execution_count": 4,
   "metadata": {},
   "outputs": [],
   "source": [
    "import os\n",
    "import urllib\n",
    "import pandas as pd\n",
    "import numpy as np"
   ]
  },
  {
   "cell_type": "code",
   "execution_count": 5,
   "metadata": {},
   "outputs": [],
   "source": [
    " J = pd.Series(range(1,365))"
   ]
  },
  {
   "cell_type": "code",
   "execution_count": null,
   "metadata": {},
   "outputs": [],
   "source": [
    "def Rso (J,lat):\n",
    "    soco = 0.082\n",
    "    latrad = (np.pi / 180) * lat\n",
    "    inv_rel_d = 1 + 0.033 * np.cos((2 * np.pi / 365) * J)\n",
    "    sodec = 0.409*sin((2*np.pi / 365) * J - 1.39)\n",
    "    sha = np.arccos((-np.tan(latrad)) * (tan(sodec)))\n",
    "    \n",
    "    Ra = (((24*60)/np.pi)*soco*inv_rel_d*(\n",
    "        (sha*np.sin(latrad)*np.sin(sodec)) + (np.cos(latrad)*np.cos(sha))))\n",
    "    \n",
    "    Rso = (0.75 + (2e-5*z))  \n",
    "    \n",
    "    return Rso\n",
    "            \n",
    "    "
   ]
  }
 ],
 "metadata": {
  "kernelspec": {
   "display_name": "Python 3",
   "language": "python",
   "name": "python3"
  },
  "language_info": {
   "codemirror_mode": {
    "name": "ipython",
    "version": 3
   },
   "file_extension": ".py",
   "mimetype": "text/x-python",
   "name": "python",
   "nbconvert_exporter": "python",
   "pygments_lexer": "ipython3",
   "version": "3.7.4"
  },
  "varInspector": {
   "cols": {
    "lenName": 16,
    "lenType": 16,
    "lenVar": 40
   },
   "kernels_config": {
    "python": {
     "delete_cmd_postfix": "",
     "delete_cmd_prefix": "del ",
     "library": "var_list.py",
     "varRefreshCmd": "print(var_dic_list())"
    },
    "r": {
     "delete_cmd_postfix": ") ",
     "delete_cmd_prefix": "rm(",
     "library": "var_list.r",
     "varRefreshCmd": "cat(var_dic_list()) "
    }
   },
   "types_to_exclude": [
    "module",
    "function",
    "builtin_function_or_method",
    "instance",
    "_Feature"
   ],
   "window_display": false
  }
 },
 "nbformat": 4,
 "nbformat_minor": 2
}
