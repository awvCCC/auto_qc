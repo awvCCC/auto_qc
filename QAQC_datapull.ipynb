{
 "cells": [
  {
   "cell_type": "code",
   "execution_count": 3,
   "metadata": {},
   "outputs": [],
   "source": [
    "import os\n",
    "import urllib\n",
    "import numpy as np\n",
    "import pandas as pd\n",
    "from datetime import datetime,timedelta"
   ]
  },
  {
   "cell_type": "code",
   "execution_count": 2,
   "metadata": {},
   "outputs": [],
   "source": [
    "path = r'C:\\Users\\student\\Documents\\Alistair CoAgMET Projects\\Pythonstuff\\QC\\auto_qc'\n",
    "os.chdir(path)\n",
    "\n",
    "today = datetime.now().strftime('%Y-%m-%d')\n",
    "yesterday = datetime.strftime(datetime.now() - timedelta(1), '%Y-%m-%d')\n",
    "\n",
    "csv = (path + r'\\csv.csv')\n",
    "txt = (path + r'\\qaqc_report.txt')\n",
    "q = open(txt,'w+')"
   ]
  },
  {
   "cell_type": "code",
   "execution_count": null,
   "metadata": {},
   "outputs": [],
   "source": [
    "Ark_path = \n",
    "\n",
    "Collegiate_Valley = ['Ark']"
   ]
  },
  {
   "cell_type": "code",
   "execution_count": null,
   "metadata": {},
   "outputs": [],
   "source": [
    "def QAQC_datapull(a,b,c,d):\n",
    "    if a == 'hourly':\n",
    "        e = ['tmean,rh,vp,sr,ws,wind_vec,wind_std,pp,st5,st15,gust,gusttm,gustdir']\n",
    "        r = pd.date_range(start=c,end=d,freq='H')\n",
    "    elif a == 'five_minute':\n",
    "        e = ['tmean,rh,vp,sr,ws,wind_vec,wind_std,pp,st5,st15,gust,gusttm,gustdir']\n",
    "        r = pd.date_range(start=c,end=d,freq='5min')\n",
    "    elif a == 'daily':\n",
    "        e = ['tave,tmax,tmin,vp,rhmax,rhmin,sr,wrun,pp,st5mx,st5mn,st15mx,st15mn,gust,gustdir']\n",
    "        r = pd.date_range(start=c,end=d,freq='D')\n",
    "        \n",
    "    urllib.request.urlretrieve('http://coagmet.colostate.edu/cgi-bin/web_services.pl?' +\n",
    "                              'type=' + a +\n",
    "                              '&sids=' + b +\n",
    "                              '&sdate=' + c +\n",
    "                              '&edate=' + d +\n",
    "                              '&elems=' + e,\n",
    "                              filename=csv)\n",
    "    \n",
    "    data = pd.read_csv(csv)\n",
    "    \n",
    "    data = data.reset_index()\n",
    "    \n",
    "    headers = e.split(',')\n",
    "    \n",
    "    headers.insert(0,'date')\n",
    "    headers.instert(0,'station')\n",
    "    \n",
    "    data.columns = headers\n",
    "    \n",
    "    data['date'] = pd.to_datetime(data.date)\n",
    "    \n",
    "    data = data.set_index('date').reindex(r,copy=False).rename_axis('date')\n",
    "    \n",
    "    return data"
   ]
  }
 ],
 "metadata": {
  "kernelspec": {
   "display_name": "Python 3",
   "language": "python",
   "name": "python3"
  },
  "language_info": {
   "codemirror_mode": {
    "name": "ipython",
    "version": 3
   },
   "file_extension": ".py",
   "mimetype": "text/x-python",
   "name": "python",
   "nbconvert_exporter": "python",
   "pygments_lexer": "ipython3",
   "version": "3.7.3"
  },
  "toc": {
   "base_numbering": 1,
   "nav_menu": {},
   "number_sections": true,
   "sideBar": true,
   "skip_h1_title": false,
   "title_cell": "Table of Contents",
   "title_sidebar": "Contents",
   "toc_cell": false,
   "toc_position": {},
   "toc_section_display": true,
   "toc_window_display": false
  },
  "varInspector": {
   "cols": {
    "lenName": 16,
    "lenType": 16,
    "lenVar": 40
   },
   "kernels_config": {
    "python": {
     "delete_cmd_postfix": "",
     "delete_cmd_prefix": "del ",
     "library": "var_list.py",
     "varRefreshCmd": "print(var_dic_list())"
    },
    "r": {
     "delete_cmd_postfix": ") ",
     "delete_cmd_prefix": "rm(",
     "library": "var_list.r",
     "varRefreshCmd": "cat(var_dic_list()) "
    }
   },
   "types_to_exclude": [
    "module",
    "function",
    "builtin_function_or_method",
    "instance",
    "_Feature"
   ],
   "window_display": false
  }
 },
 "nbformat": 4,
 "nbformat_minor": 2
}
